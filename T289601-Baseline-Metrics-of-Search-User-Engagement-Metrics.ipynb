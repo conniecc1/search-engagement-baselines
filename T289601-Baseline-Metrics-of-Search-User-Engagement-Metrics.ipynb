{
 "cells": [
  {
   "cell_type": "markdown",
   "id": "36a5c6f3",
   "metadata": {},
   "source": [
    "# Baseline Metrics of Search User Engagement Metrics\n"
   ]
  },
  {
   "cell_type": "markdown",
   "id": "54b5c852",
   "metadata": {},
   "source": [
    "[T289601](https://phabricator.wikimedia.org/T289601)"
   ]
  },
  {
   "cell_type": "markdown",
   "id": "f0feb538",
   "metadata": {},
   "source": [
    "In this notebook, we establish baselines for search user engagement metrics for the Search Platform team.\n",
    "\n",
    "The metrics are (which we are tracking in dashbaord):\n",
    "- Number of search sessions (including full-text sessions, click sessions and checkin sessions).\n",
    "- Number of sessions with dwell time >= 10s.\n",
    "- Proportion of sessions with dwell time >= 10s.\n",
    "\n",
    "The projects we are tracking include:\n",
    "- Overall.\n",
    "- Major projects (from top 10 wikis): commons, wikidata, enwiki, eswiki, dewiki, jawiki, ruwiki, itwiki, zhwiki, ptwiki.\n",
    "- Projects of languages used in emerging market countries (Refer to [this sheet](https://docs.google.com/spreadsheets/d/14QzqCQeJbdfbXZOHDTYT5Ojd8pdisMpps37J7tvbNYo/edit?usp=sharing) for a detailed list of countries and languages).\n",
    "\n"
   ]
  },
  {
   "cell_type": "markdown",
   "id": "e4e0cf33",
   "metadata": {},
   "source": [
    "## Notes"
   ]
  },
  {
   "cell_type": "markdown",
   "id": "fd59fdde",
   "metadata": {},
   "source": [
    "- Event logging in SearchSatisfaction is only done on the desktop platform. This means that for these metrics, platform will always be desktop. \n",
    "\n",
    "- For the baseline, we only look at user activities, which means the searches done by a bot or someone - who's likely a bot will not be included. If more than 50 searches are done in a session, it's likely a non-human agent and we'll label that automated. Otherwise, we'll label it user.\n",
    "\n",
    "- The timeframe is from 09/01/2021 to 09/30/2021 as the activities picked in from summer/vacation time.\n",
    "\n",
    "- We use median for daily metrics.\n",
    "\n"
   ]
  },
  {
   "cell_type": "code",
   "execution_count": 1,
   "id": "fda3d713",
   "metadata": {},
   "outputs": [],
   "source": [
    "import datetime as dt\n",
    "\n",
    "import pandas as pd\n",
    "import numpy as np\n",
    "\n",
    "from wmfdata import spark, mariadb, hive\n",
    "\n",
    "import gspread\n",
    "from google.oauth2.service_account import Credentials"
   ]
  },
  {
   "cell_type": "code",
   "execution_count": 2,
   "id": "759a3683",
   "metadata": {},
   "outputs": [],
   "source": [
    "# major projects that not in emerging coutries' language list\n",
    "major_project_list = '\"commonswiki\",\"wikidatawiki\",\"dewiki\",\"itwiki\",\"ruwiki\"'"
   ]
  },
  {
   "cell_type": "code",
   "execution_count": 3,
   "id": "67d2ed24",
   "metadata": {},
   "outputs": [
    {
     "name": "stderr",
     "output_type": "stream",
     "text": [
      "PySpark executors will use /usr/lib/anaconda-wmf/bin/python3.\n"
     ]
    }
   ],
   "source": [
    "emerging_list = spark.run('''\n",
    "SELECT project FROM cchen_search.emerging_market_list GROUP BY project\n",
    "''')"
   ]
  },
  {
   "cell_type": "code",
   "execution_count": 4,
   "id": "582834ba",
   "metadata": {},
   "outputs": [],
   "source": [
    "emerging_project_list = str(emerging_list.project.tolist())[1:-1]"
   ]
  },
  {
   "cell_type": "markdown",
   "id": "38e5c8ba",
   "metadata": {},
   "source": [
    "## Number of search sessions per Day"
   ]
  },
  {
   "cell_type": "code",
   "execution_count": 8,
   "id": "2d8d4fde",
   "metadata": {},
   "outputs": [],
   "source": [
    "search_session_query = '''\n",
    "\n",
    "SELECT \n",
    "  project_family,\n",
    "  wiki_db,\n",
    "  f.language_code,\n",
    "  ROUND(AVG(f.num_fulltext_sessions),0) AS fulltext_sessions,\n",
    "  ROUND(AVG(f.num_click_sessions),0) AS click_sessions,\n",
    "  ROUND(AVG(f.num_checkin_sessions),0) AS checkin_sessions\n",
    "FROM search_dashboard_data.fulltext_funnel_counts f\n",
    "WHERE log_date >= \"2021-09-01\"\n",
    "  AND log_date < \"2021-10-01\"\n",
    "  AND (f.wiki_db IN ({major}) OR f.wiki_db IN ({emerging}))\n",
    "  AND agent_type = 'user'\n",
    "GROUP BY f.project_family, f.wiki_db,f.language_code\n",
    "'''"
   ]
  },
  {
   "cell_type": "code",
   "execution_count": 13,
   "id": "183992ae",
   "metadata": {},
   "outputs": [],
   "source": [
    "search_session_all_query = '''\n",
    "WITH daily AS (\n",
    "   SELECT \n",
    "     log_date, \n",
    "     SUM(num_fulltext_sessions) AS num_fulltext_sessions,\n",
    "     SUM(num_click_sessions) AS num_click_sessions,\n",
    "     SUM(num_checkin_sessions) AS num_checkin_sessions\n",
    "   FROM search_dashboard_data.fulltext_funnel_counts\n",
    "   WHERE log_date >= \"2021-09-01\"\n",
    "     AND log_date < \"2021-10-01\"\n",
    "     AND agent_type = 'user'\n",
    "   GROUP BY log_date\n",
    ")\n",
    "\n",
    "SELECT \n",
    "  'Overall' AS project_family,\n",
    "  'Overall' AS wiki_db,\n",
    "  'Overall' AS language_code,\n",
    "  ROUND(AVG(num_fulltext_sessions),0) AS fulltext_sessions,\n",
    "  ROUND(AVG(num_click_sessions),0) AS click_sessions,\n",
    "  ROUND(AVG(num_checkin_sessions),0) AS checkin_sessions\n",
    "FROM daily\n",
    "'''"
   ]
  },
  {
   "cell_type": "code",
   "execution_count": 9,
   "id": "682310a8",
   "metadata": {},
   "outputs": [
    {
     "name": "stderr",
     "output_type": "stream",
     "text": [
      "PySpark executors will use /usr/lib/anaconda-wmf/bin/python3.\n"
     ]
    }
   ],
   "source": [
    "search_session_daily = spark.run(search_session_query.format(major = major_project_list, emerging = emerging_project_list))"
   ]
  },
  {
   "cell_type": "code",
   "execution_count": 14,
   "id": "a4c435a8",
   "metadata": {},
   "outputs": [
    {
     "name": "stderr",
     "output_type": "stream",
     "text": [
      "PySpark executors will use /usr/lib/anaconda-wmf/bin/python3.\n"
     ]
    }
   ],
   "source": [
    "search_session_overall_daily = spark.run(search_session_all_query)"
   ]
  },
  {
   "cell_type": "markdown",
   "id": "8943eb0a",
   "metadata": {},
   "source": [
    "## Sessions with dwell time >= 10s per day"
   ]
  },
  {
   "cell_type": "code",
   "execution_count": 19,
   "id": "6b50fd0a",
   "metadata": {},
   "outputs": [],
   "source": [
    "dwell_session_query = '''\n",
    "\n",
    "WITH daily AS (\n",
    "  SELECT \n",
    "    log_date,\n",
    "    project_family,\n",
    "    wiki_db,\n",
    "    f.language_code,\n",
    "    SUM(IF(max_checkin >= 10, num_sessions, 0)) AS num_dwell,\n",
    "    SUM(num_sessions) AS num_all\n",
    "FROM search_dashboard_data.fulltext_checkin_counts f\n",
    "WHERE log_date >= \"2021-09-01\"\n",
    "  AND log_date < \"2021-10-01\"\n",
    "  AND (f.wiki_db IN ({major}) OR f.wiki_db IN ({emerging}))\n",
    "  AND agent_type = 'user'\n",
    "GROUP BY log_date, f.project_family, f.wiki_db,f.language_code\n",
    "\n",
    ")\n",
    "\n",
    "SELECT \n",
    "  project_family,\n",
    "  wiki_db,\n",
    "  language_code,\n",
    "  ROUND(AVG(num_dwell),0) AS num_dwell,\n",
    "  ROUND(100 * SUM(num_dwell) /\n",
    "        SUM(num_all),2) AS percent_dwell\n",
    "FROM daily\n",
    "GROUP BY project_family, wiki_db,language_code\n",
    "'''"
   ]
  },
  {
   "cell_type": "code",
   "execution_count": 20,
   "id": "3768a3ea",
   "metadata": {},
   "outputs": [],
   "source": [
    "dwell_session_all_query = '''\n",
    "\n",
    "WITH daily AS (\n",
    "  SELECT \n",
    "    log_date,\n",
    "    SUM(IF(max_checkin >= 10, num_sessions, 0)) AS num_dwell,\n",
    "    SUM(num_sessions) AS num_all\n",
    "FROM search_dashboard_data.fulltext_checkin_counts f\n",
    "WHERE log_date >= \"2021-09-01\"\n",
    "  AND log_date < \"2021-10-01\"\n",
    "  AND agent_type = 'user'\n",
    "GROUP BY log_date\n",
    ")\n",
    "\n",
    "SELECT \n",
    "  'Overall' AS project_family,\n",
    "  'Overall' AS wiki_db,\n",
    "  'Overall' AS language_code,\n",
    "  ROUND(AVG(num_dwell),0) AS num_dwell,\n",
    "  ROUND(100 * SUM(num_dwell)/SUM(num_all),2) AS percent_dwell\n",
    "FROM daily\n",
    "'''"
   ]
  },
  {
   "cell_type": "code",
   "execution_count": 21,
   "id": "b21295d9",
   "metadata": {},
   "outputs": [
    {
     "name": "stderr",
     "output_type": "stream",
     "text": [
      "PySpark executors will use /usr/lib/anaconda-wmf/bin/python3.\n"
     ]
    }
   ],
   "source": [
    "dwell_session_daily = spark.run(dwell_session_query.format(major = major_project_list, emerging = emerging_project_list))"
   ]
  },
  {
   "cell_type": "code",
   "execution_count": 22,
   "id": "800b3c3c",
   "metadata": {},
   "outputs": [
    {
     "name": "stderr",
     "output_type": "stream",
     "text": [
      "PySpark executors will use /usr/lib/anaconda-wmf/bin/python3.\n"
     ]
    }
   ],
   "source": [
    "dwell_session_overall_daily = spark.run(dwell_session_all_query)"
   ]
  },
  {
   "cell_type": "markdown",
   "id": "2aa05c5b",
   "metadata": {},
   "source": [
    "## export to google sheet"
   ]
  },
  {
   "cell_type": "code",
   "execution_count": 24,
   "id": "df480254",
   "metadata": {},
   "outputs": [],
   "source": [
    "scope = ['https://spreadsheets.google.com/feeds',\n",
    "         'https://www.googleapis.com/auth/drive']\n",
    "\n",
    "credentials = Credentials.from_service_account_file('big-mender-274521-324384a764e2.json', scopes=scope)\n",
    "gc = gspread.authorize(credentials)"
   ]
  },
  {
   "cell_type": "code",
   "execution_count": 34,
   "id": "10fa02d7",
   "metadata": {},
   "outputs": [],
   "source": [
    "@property\n",
    "def sheet1(self):\n",
    "    \"\"\"Shortcut property for getting the first worksheet.\"\"\"\n",
    "    return self.get_worksheet(0)"
   ]
  },
  {
   "cell_type": "code",
   "execution_count": 35,
   "id": "c49afd44",
   "metadata": {},
   "outputs": [
    {
     "data": {
      "text/plain": [
       "{'spreadsheetId': '1FOI2nLcuaj4CPY-G0Uz460oM_2UIPTViYRAFWAXrQ6M',\n",
       " 'updatedRange': 'Sheet5!A1:F38',\n",
       " 'updatedRows': 38,\n",
       " 'updatedColumns': 6,\n",
       " 'updatedCells': 228}"
      ]
     },
     "execution_count": 35,
     "metadata": {},
     "output_type": "execute_result"
    }
   ],
   "source": [
    "wks1 = gc.open(\"search_engagement_baselines\").get_worksheet(0)\n",
    "wks1.update([search_session_daily.columns.values.tolist()] + search_session_daily.values.tolist())"
   ]
  },
  {
   "cell_type": "code",
   "execution_count": 36,
   "id": "6d856a12",
   "metadata": {},
   "outputs": [
    {
     "ename": "APIError",
     "evalue": "{'code': 400, 'message': \"Unable to parse range: 'Sheet5'\", 'status': 'INVALID_ARGUMENT'}",
     "output_type": "error",
     "traceback": [
      "\u001b[0;31m---------------------------------------------------------------------------\u001b[0m",
      "\u001b[0;31mAPIError\u001b[0m                                  Traceback (most recent call last)",
      "\u001b[0;32m<ipython-input-36-f7f1f7c59b33>\u001b[0m in \u001b[0;36m<module>\u001b[0;34m\u001b[0m\n\u001b[0;32m----> 1\u001b[0;31m \u001b[0mwks1\u001b[0m\u001b[0;34m.\u001b[0m\u001b[0mappend_row\u001b[0m\u001b[0;34m(\u001b[0m\u001b[0msearch_session_overall_daily\u001b[0m\u001b[0;34m.\u001b[0m\u001b[0miloc\u001b[0m\u001b[0;34m[\u001b[0m\u001b[0;34m-\u001b[0m\u001b[0;36m1\u001b[0m\u001b[0;34m]\u001b[0m\u001b[0;34m.\u001b[0m\u001b[0mtolist\u001b[0m\u001b[0;34m(\u001b[0m\u001b[0;34m)\u001b[0m\u001b[0;34m)\u001b[0m\u001b[0;34m\u001b[0m\u001b[0;34m\u001b[0m\u001b[0m\n\u001b[0m",
      "\u001b[0;32m~/.conda/envs/2021-04-28T21.02.04_conniecc1/lib/python3.7/site-packages/gspread/models.py\u001b[0m in \u001b[0;36mappend_row\u001b[0;34m(self, values, value_input_option, insert_data_option, table_range)\u001b[0m\n\u001b[1;32m   1467\u001b[0m             \u001b[0mvalue_input_option\u001b[0m\u001b[0;34m=\u001b[0m\u001b[0mvalue_input_option\u001b[0m\u001b[0;34m,\u001b[0m\u001b[0;34m\u001b[0m\u001b[0;34m\u001b[0m\u001b[0m\n\u001b[1;32m   1468\u001b[0m             \u001b[0minsert_data_option\u001b[0m\u001b[0;34m=\u001b[0m\u001b[0minsert_data_option\u001b[0m\u001b[0;34m,\u001b[0m\u001b[0;34m\u001b[0m\u001b[0;34m\u001b[0m\u001b[0m\n\u001b[0;32m-> 1469\u001b[0;31m             \u001b[0mtable_range\u001b[0m\u001b[0;34m=\u001b[0m\u001b[0mtable_range\u001b[0m\u001b[0;34m,\u001b[0m\u001b[0;34m\u001b[0m\u001b[0;34m\u001b[0m\u001b[0m\n\u001b[0m\u001b[1;32m   1470\u001b[0m         )\n\u001b[1;32m   1471\u001b[0m \u001b[0;34m\u001b[0m\u001b[0m\n",
      "\u001b[0;32m~/.conda/envs/2021-04-28T21.02.04_conniecc1/lib/python3.7/site-packages/gspread/models.py\u001b[0m in \u001b[0;36mappend_rows\u001b[0;34m(self, values, value_input_option, insert_data_option, table_range)\u001b[0m\n\u001b[1;32m   1505\u001b[0m         \u001b[0mbody\u001b[0m \u001b[0;34m=\u001b[0m \u001b[0;34m{\u001b[0m\u001b[0;34m'values'\u001b[0m\u001b[0;34m:\u001b[0m \u001b[0mvalues\u001b[0m\u001b[0;34m}\u001b[0m\u001b[0;34m\u001b[0m\u001b[0;34m\u001b[0m\u001b[0m\n\u001b[1;32m   1506\u001b[0m \u001b[0;34m\u001b[0m\u001b[0m\n\u001b[0;32m-> 1507\u001b[0;31m         \u001b[0;32mreturn\u001b[0m \u001b[0mself\u001b[0m\u001b[0;34m.\u001b[0m\u001b[0mspreadsheet\u001b[0m\u001b[0;34m.\u001b[0m\u001b[0mvalues_append\u001b[0m\u001b[0;34m(\u001b[0m\u001b[0mrange_label\u001b[0m\u001b[0;34m,\u001b[0m \u001b[0mparams\u001b[0m\u001b[0;34m,\u001b[0m \u001b[0mbody\u001b[0m\u001b[0;34m)\u001b[0m\u001b[0;34m\u001b[0m\u001b[0;34m\u001b[0m\u001b[0m\n\u001b[0m\u001b[1;32m   1508\u001b[0m \u001b[0;34m\u001b[0m\u001b[0m\n\u001b[1;32m   1509\u001b[0m     \u001b[0;32mdef\u001b[0m \u001b[0minsert_row\u001b[0m\u001b[0;34m(\u001b[0m\u001b[0mself\u001b[0m\u001b[0;34m,\u001b[0m \u001b[0mvalues\u001b[0m\u001b[0;34m,\u001b[0m \u001b[0mindex\u001b[0m\u001b[0;34m=\u001b[0m\u001b[0;36m1\u001b[0m\u001b[0;34m,\u001b[0m \u001b[0mvalue_input_option\u001b[0m\u001b[0;34m=\u001b[0m\u001b[0;34m'RAW'\u001b[0m\u001b[0;34m)\u001b[0m\u001b[0;34m:\u001b[0m\u001b[0;34m\u001b[0m\u001b[0;34m\u001b[0m\u001b[0m\n",
      "\u001b[0;32m~/.conda/envs/2021-04-28T21.02.04_conniecc1/lib/python3.7/site-packages/gspread/models.py\u001b[0m in \u001b[0;36mvalues_append\u001b[0;34m(self, range, params, body)\u001b[0m\n\u001b[1;32m    163\u001b[0m         \"\"\"\n\u001b[1;32m    164\u001b[0m         \u001b[0murl\u001b[0m \u001b[0;34m=\u001b[0m \u001b[0mSPREADSHEET_VALUES_APPEND_URL\u001b[0m \u001b[0;34m%\u001b[0m \u001b[0;34m(\u001b[0m\u001b[0mself\u001b[0m\u001b[0;34m.\u001b[0m\u001b[0mid\u001b[0m\u001b[0;34m,\u001b[0m \u001b[0mquote\u001b[0m\u001b[0;34m(\u001b[0m\u001b[0mrange\u001b[0m\u001b[0;34m)\u001b[0m\u001b[0;34m)\u001b[0m\u001b[0;34m\u001b[0m\u001b[0;34m\u001b[0m\u001b[0m\n\u001b[0;32m--> 165\u001b[0;31m         \u001b[0mr\u001b[0m \u001b[0;34m=\u001b[0m \u001b[0mself\u001b[0m\u001b[0;34m.\u001b[0m\u001b[0mclient\u001b[0m\u001b[0;34m.\u001b[0m\u001b[0mrequest\u001b[0m\u001b[0;34m(\u001b[0m\u001b[0;34m'post'\u001b[0m\u001b[0;34m,\u001b[0m \u001b[0murl\u001b[0m\u001b[0;34m,\u001b[0m \u001b[0mparams\u001b[0m\u001b[0;34m=\u001b[0m\u001b[0mparams\u001b[0m\u001b[0;34m,\u001b[0m \u001b[0mjson\u001b[0m\u001b[0;34m=\u001b[0m\u001b[0mbody\u001b[0m\u001b[0;34m)\u001b[0m\u001b[0;34m\u001b[0m\u001b[0;34m\u001b[0m\u001b[0m\n\u001b[0m\u001b[1;32m    166\u001b[0m         \u001b[0;32mreturn\u001b[0m \u001b[0mr\u001b[0m\u001b[0;34m.\u001b[0m\u001b[0mjson\u001b[0m\u001b[0;34m(\u001b[0m\u001b[0;34m)\u001b[0m\u001b[0;34m\u001b[0m\u001b[0;34m\u001b[0m\u001b[0m\n\u001b[1;32m    167\u001b[0m \u001b[0;34m\u001b[0m\u001b[0m\n",
      "\u001b[0;32m~/.conda/envs/2021-04-28T21.02.04_conniecc1/lib/python3.7/site-packages/gspread/client.py\u001b[0m in \u001b[0;36mrequest\u001b[0;34m(self, method, endpoint, params, data, json, files, headers)\u001b[0m\n\u001b[1;32m     74\u001b[0m             \u001b[0;32mreturn\u001b[0m \u001b[0mresponse\u001b[0m\u001b[0;34m\u001b[0m\u001b[0;34m\u001b[0m\u001b[0m\n\u001b[1;32m     75\u001b[0m         \u001b[0;32melse\u001b[0m\u001b[0;34m:\u001b[0m\u001b[0;34m\u001b[0m\u001b[0;34m\u001b[0m\u001b[0m\n\u001b[0;32m---> 76\u001b[0;31m             \u001b[0;32mraise\u001b[0m \u001b[0mAPIError\u001b[0m\u001b[0;34m(\u001b[0m\u001b[0mresponse\u001b[0m\u001b[0;34m)\u001b[0m\u001b[0;34m\u001b[0m\u001b[0;34m\u001b[0m\u001b[0m\n\u001b[0m\u001b[1;32m     77\u001b[0m \u001b[0;34m\u001b[0m\u001b[0m\n\u001b[1;32m     78\u001b[0m     \u001b[0;32mdef\u001b[0m \u001b[0mlist_spreadsheet_files\u001b[0m\u001b[0;34m(\u001b[0m\u001b[0mself\u001b[0m\u001b[0;34m,\u001b[0m \u001b[0mtitle\u001b[0m\u001b[0;34m=\u001b[0m\u001b[0;32mNone\u001b[0m\u001b[0;34m)\u001b[0m\u001b[0;34m:\u001b[0m\u001b[0;34m\u001b[0m\u001b[0;34m\u001b[0m\u001b[0m\n",
      "\u001b[0;31mAPIError\u001b[0m: {'code': 400, 'message': \"Unable to parse range: 'Sheet5'\", 'status': 'INVALID_ARGUMENT'}"
     ]
    }
   ],
   "source": [
    "wks1.append_row(search_session_overall_daily.iloc[-1].tolist())"
   ]
  },
  {
   "cell_type": "code",
   "execution_count": 44,
   "id": "b8c8dcef",
   "metadata": {},
   "outputs": [
    {
     "ename": "AttributeError",
     "evalue": "'NoneType' object has no attribute 'update'",
     "output_type": "error",
     "traceback": [
      "\u001b[0;31m---------------------------------------------------------------------------\u001b[0m",
      "\u001b[0;31mAttributeError\u001b[0m                            Traceback (most recent call last)",
      "\u001b[0;32m<ipython-input-44-d1fd92200375>\u001b[0m in \u001b[0;36m<module>\u001b[0;34m\u001b[0m\n\u001b[1;32m      1\u001b[0m \u001b[0mwks2\u001b[0m \u001b[0;34m=\u001b[0m \u001b[0mgc\u001b[0m\u001b[0;34m.\u001b[0m\u001b[0mopen\u001b[0m\u001b[0;34m(\u001b[0m\u001b[0;34m\"search_engagement_baselines\"\u001b[0m\u001b[0;34m)\u001b[0m\u001b[0;34m.\u001b[0m\u001b[0mget_worksheet\u001b[0m\u001b[0;34m(\u001b[0m\u001b[0;36m4\u001b[0m\u001b[0;34m)\u001b[0m\u001b[0;34m\u001b[0m\u001b[0;34m\u001b[0m\u001b[0m\n\u001b[0;32m----> 2\u001b[0;31m \u001b[0mwks2\u001b[0m\u001b[0;34m.\u001b[0m\u001b[0mupdate\u001b[0m\u001b[0;34m(\u001b[0m\u001b[0;34m[\u001b[0m\u001b[0mdwell_session_daily\u001b[0m\u001b[0;34m.\u001b[0m\u001b[0mcolumns\u001b[0m\u001b[0;34m.\u001b[0m\u001b[0mvalues\u001b[0m\u001b[0;34m.\u001b[0m\u001b[0mtolist\u001b[0m\u001b[0;34m(\u001b[0m\u001b[0;34m)\u001b[0m\u001b[0;34m]\u001b[0m \u001b[0;34m+\u001b[0m \u001b[0mdwell_session_daily\u001b[0m\u001b[0;34m.\u001b[0m\u001b[0mvalues\u001b[0m\u001b[0;34m.\u001b[0m\u001b[0mtolist\u001b[0m\u001b[0;34m(\u001b[0m\u001b[0;34m)\u001b[0m\u001b[0;34m)\u001b[0m\u001b[0;34m\u001b[0m\u001b[0;34m\u001b[0m\u001b[0m\n\u001b[0m",
      "\u001b[0;31mAttributeError\u001b[0m: 'NoneType' object has no attribute 'update'"
     ]
    }
   ],
   "source": [
    "wks2 = gc.open(\"search_engagement_baselines\").get_worksheet(1)\n",
    "wks2.update([dwell_session_daily.columns.values.tolist()] + dwell_session_daily.values.tolist())"
   ]
  },
  {
   "cell_type": "code",
   "execution_count": null,
   "id": "03e34b89",
   "metadata": {},
   "outputs": [],
   "source": [
    "wks2.append_row(dwell_session_overall_daily.iloc[-1].tolist())"
   ]
  },
  {
   "cell_type": "code",
   "execution_count": null,
   "id": "e78a1f24",
   "metadata": {},
   "outputs": [],
   "source": []
  }
 ],
 "metadata": {
  "kernelspec": {
   "display_name": "Python 3",
   "language": "python",
   "name": "python3"
  },
  "language_info": {
   "codemirror_mode": {
    "name": "ipython",
    "version": 3
   },
   "file_extension": ".py",
   "mimetype": "text/x-python",
   "name": "python",
   "nbconvert_exporter": "python",
   "pygments_lexer": "ipython3",
   "version": "3.7.6"
  }
 },
 "nbformat": 4,
 "nbformat_minor": 5
}
